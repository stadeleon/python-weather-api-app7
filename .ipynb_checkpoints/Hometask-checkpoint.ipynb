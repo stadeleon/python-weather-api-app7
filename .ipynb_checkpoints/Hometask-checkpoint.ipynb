{
 "cells": [
  {
   "cell_type": "code",
   "execution_count": 1,
   "id": "80a643d1-5e6d-444f-b2df-34ef4c597e88",
   "metadata": {},
   "outputs": [],
   "source": [
    "with open(\"miracle_in_the_andes.txt\", \"r\") as file:\n",
    "    book = file.read()"
   ]
  },
  {
   "cell_type": "markdown",
   "id": "d4e9f90f-3f6c-45ab-ad04-906b162cfe75",
   "metadata": {},
   "source": [
    "## Extract the paragraphs with word 'love'"
   ]
  },
  {
   "cell_type": "code",
   "execution_count": 38,
   "id": "d34752b4-6e1e-47d0-9023-d2105ccb6bb2",
   "metadata": {},
   "outputs": [
    {
     "data": {
      "text/plain": [
       "7"
      ]
     },
     "execution_count": 38,
     "metadata": {},
     "output_type": "execute_result"
    }
   ],
   "source": [
    "import re\n",
    "# pattern = re.compile(\"( +[A-Z]+[a-z.\\s]*.* (love)[^.]?[A-Za-z.\\s]*[.]+[\\n]+)\")\n",
    "pattern = re.compile(\"([^\\n](love)[^\\n]+)\")\n",
    "findings = re.findall(pattern, book)\n",
    "len(findings)\n",
    "# findings"
   ]
  },
  {
   "cell_type": "markdown",
   "id": "8d0d5160-cb19-431e-a84d-fd741afcb88a",
   "metadata": {},
   "source": [
    "## Extract the Chapter titles"
   ]
  },
  {
   "cell_type": "code",
   "execution_count": 28,
   "id": "0426308b-22a3-4207-938c-3e3ce833d79b",
   "metadata": {},
   "outputs": [
    {
     "data": {
      "text/plain": [
       "['Before',\n",
       " 'Everything Precious',\n",
       " 'A Promise',\n",
       " 'Breathe Once More',\n",
       " 'Abandoned',\n",
       " 'Tomb',\n",
       " 'East',\n",
       " 'The Opposite of Death',\n",
       " 'I See a Man',\n",
       " 'After']"
      ]
     },
     "execution_count": 28,
     "metadata": {},
     "output_type": "execute_result"
    }
   ],
   "source": [
    "pattern = re.compile(\"Chapter [\\d]+[\\n]{2}(.*)[\\n]\")\n",
    "findings = re.findall(pattern, book)\n",
    "findings"
   ]
  },
  {
   "cell_type": "markdown",
   "id": "0c5e04ca-92b8-491a-8594-2f040dfd58a6",
   "metadata": {},
   "source": [
    "## Function that finds the occurrence of any word"
   ]
  },
  {
   "cell_type": "code",
   "execution_count": 29,
   "id": "9e4b76af-4cb1-48a6-8314-b92aaad0afd0",
   "metadata": {},
   "outputs": [],
   "source": [
    "def number_of_word_occurrence(search_word, text):\n",
    "    pattern = re.compile(f\"{search_word}\")\n",
    "    return len(re.findall(pattern, text))"
   ]
  },
  {
   "cell_type": "code",
   "execution_count": 30,
   "id": "878a01f7-2feb-44cf-82f9-7ea1d72de397",
   "metadata": {},
   "outputs": [
    {
     "data": {
      "text/plain": [
       "114"
      ]
     },
     "execution_count": 30,
     "metadata": {},
     "output_type": "execute_result"
    }
   ],
   "source": [
    "occurrence = number_of_word_occurrence('love', book)\n",
    "occurrence"
   ]
  },
  {
   "cell_type": "code",
   "execution_count": 35,
   "id": "b9860727-1c17-4f81-baf2-36f35073620d",
   "metadata": {},
   "outputs": [
    {
     "data": {
      "text/plain": [
       "114"
      ]
     },
     "execution_count": 36,
     "metadata": {},
     "output_type": "execute_result"
    }
   ],
   "source": [
    "pattern = re.compile(\"love\", re.IGNORECASE)\n",
    "len(re.findall(pattern, book))"
   ]
  }
 ],
 "metadata": {
  "kernelspec": {
   "display_name": "Python 3 (ipykernel)",
   "language": "python",
   "name": "python3"
  },
  "language_info": {
   "codemirror_mode": {
    "name": "ipython",
    "version": 3
   },
   "file_extension": ".py",
   "mimetype": "text/x-python",
   "name": "python",
   "nbconvert_exporter": "python",
   "pygments_lexer": "ipython3",
   "version": "3.10.9"
  }
 },
 "nbformat": 4,
 "nbformat_minor": 5
}
