{
 "cells": [
  {
   "cell_type": "code",
   "execution_count": 1,
   "id": "38125999-7d62-48b9-a932-0c81ac106af5",
   "metadata": {},
   "outputs": [],
   "source": [
    "with open(\"miracle_in_the_andes.txt\") as file:\n",
    "          book = file.read()"
   ]
  },
  {
   "cell_type": "markdown",
   "id": "d807a08a-9e8c-4df5-9718-f8e67630f5e7",
   "metadata": {},
   "source": [
    "## The most used words (non-articles)"
   ]
  },
  {
   "cell_type": "code",
   "execution_count": 2,
   "id": "24713763-44d1-4379-a94a-8c0e317679db",
   "metadata": {},
   "outputs": [
    {
     "data": {
      "text/plain": [
       "['Chapter', 'Before', 'IT', 'WAS', 'FRIDAY']"
      ]
     },
     "execution_count": 2,
     "metadata": {},
     "output_type": "execute_result"
    }
   ],
   "source": [
    "import re\n",
    "pattern = re.compile(\"[a-zA-Z]+\")\n",
    "findings = re.findall(pattern, book)\n",
    "findings[:5]"
   ]
  },
  {
   "cell_type": "code",
   "execution_count": 3,
   "id": "be29b700-167a-46af-a1ea-05b543efb77c",
   "metadata": {},
   "outputs": [],
   "source": [
    "d = {}\n",
    "for word in findings:\n",
    "    if word not in d.keys():\n",
    "        d[word] = 1\n",
    "        continue\n",
    "    d[word] += 1"
   ]
  },
  {
   "cell_type": "code",
   "execution_count": 4,
   "id": "b2dc44f9-10c4-4da4-be62-5875f1eda5f1",
   "metadata": {},
   "outputs": [
    {
     "data": {
      "text/plain": [
       "[(5013, 'the'), (2740, 'and'), (2729, 'I'), (2368, 'to'), (2053, 'of')]"
      ]
     },
     "execution_count": 4,
     "metadata": {},
     "output_type": "execute_result"
    }
   ],
   "source": [
    "d_list = [(value, key) for (key, value) in d.items()]\n",
    "d_list = sorted(d_list, reverse=True)\n",
    "d_list[:5]"
   ]
  },
  {
   "cell_type": "code",
   "execution_count": 6,
   "id": "0429cd24-aef7-4dae-b3a6-506e6f023306",
   "metadata": {},
   "outputs": [
    {
     "name": "stderr",
     "output_type": "stream",
     "text": [
      "[nltk_data] Downloading package stopwords to\n",
      "[nltk_data]     /Users/leonid.derevianko/nltk_data...\n",
      "[nltk_data]   Unzipping corpora/stopwords.zip.\n",
      "[nltk_data] Downloading package vader_lexicon to\n",
      "[nltk_data]     /Users/leonid.derevianko/nltk_data...\n"
     ]
    },
    {
     "data": {
      "text/plain": [
       "True"
      ]
     },
     "execution_count": 6,
     "metadata": {},
     "output_type": "execute_result"
    }
   ],
   "source": [
    "import nltk\n",
    "\n",
    "nltk.download('stopwords')\n",
    "nltk.download('vader_lexicon')"
   ]
  },
  {
   "cell_type": "code",
   "execution_count": 7,
   "id": "86f3b4b8-446d-410c-b9f0-2a35b3d365a0",
   "metadata": {},
   "outputs": [],
   "source": [
    "from nltk.corpus import stopwords\n",
    "english_stopwords = stopwords.words(\"english\")\n"
   ]
  },
  {
   "cell_type": "code",
   "execution_count": 12,
   "id": "2ef98f39-1d10-49c4-b410-39aff1e1e0f0",
   "metadata": {},
   "outputs": [],
   "source": [
    "filtered_words = []\n",
    "for count, word in d_list:\n",
    "    if word.lower() not in english_stopwords:\n",
    "        filtered_words.append((word, count))"
   ]
  },
  {
   "cell_type": "code",
   "execution_count": 13,
   "id": "0b06b818-15df-483b-ad72-411d27074146",
   "metadata": {},
   "outputs": [
    {
     "data": {
      "text/plain": [
       "[('would', 556),\n",
       " ('us', 518),\n",
       " ('said', 292),\n",
       " ('Roberto', 284),\n",
       " ('could', 249),\n",
       " ('one', 229),\n",
       " ('snow', 225),\n",
       " ('mountain', 182),\n",
       " ('time', 178),\n",
       " ('way', 164)]"
      ]
     },
     "execution_count": 13,
     "metadata": {},
     "output_type": "execute_result"
    }
   ],
   "source": [
    "filtered_words[:10]"
   ]
  },
  {
   "cell_type": "markdown",
   "id": "af1ff2fe-2894-4039-9fdb-fa5a14f8a664",
   "metadata": {},
   "source": [
    "## Sentiment Analysis: What is the most positive and negative chapter?"
   ]
  },
  {
   "cell_type": "raw",
   "id": "5f5fa146-f320-4b1d-9323-f8cb51979cd6",
   "metadata": {},
   "source": [
    "from nltk.sentiment import SentimentIntensityAnalyzer"
   ]
  },
  {
   "cell_type": "code",
   "execution_count": 17,
   "id": "9d24ccb9-9312-4657-b20c-88aa69705339",
   "metadata": {},
   "outputs": [],
   "source": [
    "analyzer = SentimentIntensityAnalyzer()"
   ]
  },
  {
   "cell_type": "code",
   "execution_count": 21,
   "id": "39f46a52-f818-48e6-8312-a2045e40217e",
   "metadata": {},
   "outputs": [
    {
     "data": {
      "text/plain": [
       "{'neg': 0.116, 'neu': 0.76, 'pos': 0.125, 'compound': 1.0}"
      ]
     },
     "execution_count": 21,
     "metadata": {},
     "output_type": "execute_result"
    }
   ],
   "source": [
    "analyzer.polarity_scores(book)"
   ]
  },
  {
   "cell_type": "code",
   "execution_count": 26,
   "id": "26983b15-5757-4224-93b8-09179dc08164",
   "metadata": {},
   "outputs": [
    {
     "data": {
      "text/plain": [
       "{'neg': 0.186, 'neu': 0.576, 'pos': 0.238, 'compound': 0.289}"
      ]
     },
     "execution_count": 26,
     "metadata": {},
     "output_type": "execute_result"
    }
   ],
   "source": [
    "analyzer.polarity_scores(\"Hey look at this awfull and corrupted tree that hated by everybody!! I Really love it!\")"
   ]
  },
  {
   "cell_type": "code",
   "execution_count": 27,
   "id": "dfc00408-9d54-4598-9404-ef5020ce8c3a",
   "metadata": {},
   "outputs": [],
   "source": [
    "### Chapters sentiment analisys"
   ]
  },
  {
   "cell_type": "code",
   "execution_count": 29,
   "id": "f0af9d86-17d5-4e57-81f3-5add3873d6b0",
   "metadata": {},
   "outputs": [],
   "source": [
    "import re\n",
    "pattern = re.compile(\"Chapter [0-9]+\")\n",
    "chapters = re.split(pattern, book)\n",
    "chapters = chapters[1:]"
   ]
  },
  {
   "cell_type": "code",
   "execution_count": 30,
   "id": "80b38da8-c3e5-4940-9815-ad01b96835ed",
   "metadata": {},
   "outputs": [
    {
     "name": "stdout",
     "output_type": "stream",
     "text": [
      "{'neg': 0.061, 'neu': 0.779, 'pos': 0.16, 'compound': 1.0}\n",
      "{'neg': 0.12, 'neu': 0.726, 'pos': 0.154, 'compound': 0.9991}\n",
      "{'neg': 0.145, 'neu': 0.751, 'pos': 0.105, 'compound': -0.9999}\n",
      "{'neg': 0.141, 'neu': 0.721, 'pos': 0.138, 'compound': -0.9963}\n",
      "{'neg': 0.118, 'neu': 0.742, 'pos': 0.141, 'compound': 0.9997}\n",
      "{'neg': 0.124, 'neu': 0.761, 'pos': 0.115, 'compound': -0.9979}\n",
      "{'neg': 0.136, 'neu': 0.761, 'pos': 0.103, 'compound': -0.9999}\n",
      "{'neg': 0.12, 'neu': 0.786, 'pos': 0.094, 'compound': -0.9998}\n",
      "{'neg': 0.097, 'neu': 0.824, 'pos': 0.079, 'compound': -0.9996}\n",
      "{'neg': 0.086, 'neu': 0.733, 'pos': 0.181, 'compound': 1.0}\n"
     ]
    }
   ],
   "source": [
    "for chapter in chapters:\n",
    "    scores = analyzer.polarity_scores(chapter)\n",
    "    print (scores)"
   ]
  }
 ],
 "metadata": {
  "kernelspec": {
   "display_name": "Python 3 (ipykernel)",
   "language": "python",
   "name": "python3"
  },
  "language_info": {
   "codemirror_mode": {
    "name": "ipython",
    "version": 3
   },
   "file_extension": ".py",
   "mimetype": "text/x-python",
   "name": "python",
   "nbconvert_exporter": "python",
   "pygments_lexer": "ipython3",
   "version": "3.10.9"
  }
 },
 "nbformat": 4,
 "nbformat_minor": 5
}
